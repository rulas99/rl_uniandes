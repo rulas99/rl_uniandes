{
 "cells": [
  {
   "cell_type": "code",
   "execution_count": 1,
   "metadata": {},
   "outputs": [
    {
     "data": {
      "text/plain": [
       "<module 'components.HarvestWorld' from '/home/raul/Escritorio/extra/misis/rl/rl_uniandes/dynamic_actions/components/HarvestWorld.py'>"
      ]
     },
     "execution_count": 1,
     "metadata": {},
     "output_type": "execute_result"
    }
   ],
   "source": [
    "from components.HarvestWorld import HarvestWorld\n",
    "\n",
    "from importlib import import_module, reload\n",
    "\n",
    "import ipywidgets as widgets\n",
    "\n",
    "import matplotlib.pyplot as plt\n",
    "from IPython.display import clear_output\n",
    "\n",
    "harvest_world_module = import_module('components.HarvestWorld')\n",
    "reload(harvest_world_module)"
   ]
  },
  {
   "cell_type": "code",
   "execution_count": 2,
   "metadata": {},
   "outputs": [],
   "source": [
    "ASCII_MAP = \"\"\"\n",
    "AAA    A      A    AAA\n",
    "AA    AAA    AAA    AA\n",
    "A    AAAAA  AAAAA    A\n",
    "      AAA    AAA      \n",
    "       A      A       \n",
    "  A                A  \n",
    " AAA  Q        Q  AAA \n",
    "AAAAA            AAAAA\n",
    " AAA              AAA \n",
    "  A                A  \n",
    "  PPPPPPPPPPPPPPPPPP  \n",
    " PPPPPPPPPPPPPPPPPPPPP \n",
    "\"\"\"\n",
    "\n",
    "harvest_world = HarvestWorld(ASCII_MAP, \n",
    "                             regrowth_probs=[0.0, 0.005],\n",
    "                             num_agents=1)\n",
    "    "
   ]
  },
  {
   "cell_type": "code",
   "execution_count": null,
   "metadata": {},
   "outputs": [],
   "source": []
  },
  {
   "cell_type": "code",
   "execution_count": 3,
   "metadata": {},
   "outputs": [
    {
     "data": {
      "application/vnd.jupyter.widget-view+json": {
       "model_id": "a1d0eb06a9a84e30a2ecc9c056256589",
       "version_major": 2,
       "version_minor": 0
      },
      "text/plain": [
       "FloatSlider(value=0.0, description='Frequency:', max=10.0, step=1.0)"
      ]
     },
     "metadata": {},
     "output_type": "display_data"
    },
    {
     "data": {
      "application/vnd.jupyter.widget-view+json": {
       "model_id": "0d119743a26f49ce9a42b6e25a8e995b",
       "version_major": 2,
       "version_minor": 0
      },
      "text/plain": [
       "Output()"
      ]
     },
     "metadata": {},
     "output_type": "display_data"
    }
   ],
   "source": [
    "def update_plot(freq):\n",
    "    clear_output(wait=True)\n",
    "    fig, axes = plt.subplots(1, 2, figsize=(20, 15))\n",
    "    harvest_world.plot_map(axes[0])\n",
    "    harvest_world.agents[0].plot_knowledge(axes[1])\n",
    "    harvest_world.advance_timestep()\n",
    "    plt.show() \n",
    "    \n",
    "freq_slider = widgets.FloatSlider(value=0, min=0, max=10, step=1, description='Frequency:')\n",
    "out = widgets.interactive_output(update_plot, {'freq': freq_slider})\n",
    "display(freq_slider, out)"
   ]
  }
 ],
 "metadata": {
  "kernelspec": {
   "display_name": ".venv",
   "language": "python",
   "name": "python3"
  },
  "language_info": {
   "codemirror_mode": {
    "name": "ipython",
    "version": 3
   },
   "file_extension": ".py",
   "mimetype": "text/x-python",
   "name": "python",
   "nbconvert_exporter": "python",
   "pygments_lexer": "ipython3",
   "version": "3.12.3"
  }
 },
 "nbformat": 4,
 "nbformat_minor": 2
}
