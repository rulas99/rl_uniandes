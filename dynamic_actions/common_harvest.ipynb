{
 "cells": [
  {
   "cell_type": "code",
   "execution_count": 14,
   "metadata": {},
   "outputs": [
    {
     "data": {
      "text/plain": [
       "<module 'components.HarvestWorld' from '/home/raul/Escritorio/extra/misis/rl/rl_uniandes/dynamic_actions/components/HarvestWorld.py'>"
      ]
     },
     "execution_count": 14,
     "metadata": {},
     "output_type": "execute_result"
    }
   ],
   "source": [
    "from components.HarvestWorld import HarvestWorld\n",
    "\n",
    "from importlib import import_module, reload\n",
    "\n",
    "import ipywidgets as widgets\n",
    "\n",
    "import matplotlib.pyplot as plt\n",
    "from IPython.display import clear_output\n",
    "\n",
    "harvest_world_module = import_module('components.HarvestWorld')\n",
    "reload(harvest_world_module)"
   ]
  },
  {
   "cell_type": "code",
   "execution_count": 15,
   "metadata": {},
   "outputs": [],
   "source": [
    "ASCII_MAP = \"\"\"\n",
    "AA   AA\n",
    "A  Q  A\n",
    "\"\"\"\n",
    "\n",
    "harvest_world = HarvestWorld(ASCII_MAP, \n",
    "                            regrowth_probs=[0.0, 0.005],\n",
    "                            num_agents=1)\n",
    "    "
   ]
  },
  {
   "cell_type": "code",
   "execution_count": 16,
   "metadata": {},
   "outputs": [
    {
     "data": {
      "application/vnd.jupyter.widget-view+json": {
       "model_id": "2dd086f656524b219fec3c8ea224f76f",
       "version_major": 2,
       "version_minor": 0
      },
      "text/plain": [
       "FloatSlider(value=0.0, description='Frequency:', max=10.0, step=1.0)"
      ]
     },
     "metadata": {},
     "output_type": "display_data"
    },
    {
     "data": {
      "application/vnd.jupyter.widget-view+json": {
       "model_id": "b3d18a8ef48649de9a91443acfbd18b3",
       "version_major": 2,
       "version_minor": 0
      },
      "text/plain": [
       "Output()"
      ]
     },
     "metadata": {},
     "output_type": "display_data"
    }
   ],
   "source": [
    "def update_plot(freq):\n",
    "    clear_output(wait=True)\n",
    "    fig, axes = plt.subplots(1, 2, figsize=(20, 15))\n",
    "    harvest_world.plot_map(axes[0])\n",
    "    harvest_world.agents[0].plot_knowledge(axes[1])\n",
    "    harvest_world.advance_timestep()\n",
    "    plt.show() \n",
    "    \n",
    "freq_slider = widgets.FloatSlider(value=0, min=0, max=10, step=1, description='Frequency:')\n",
    "out = widgets.interactive_output(update_plot, {'freq': freq_slider})\n",
    "display(freq_slider, out)"
   ]
  },
  {
   "cell_type": "code",
   "execution_count": 17,
   "metadata": {},
   "outputs": [
    {
     "data": {
      "text/plain": [
       "{}"
      ]
     },
     "execution_count": 17,
     "metadata": {},
     "output_type": "execute_result"
    }
   ],
   "source": [
    "harvest_world.agents[0].q_knowledge[(1,1)]"
   ]
  },
  {
   "cell_type": "code",
   "execution_count": 18,
   "metadata": {},
   "outputs": [
    {
     "data": {
      "text/plain": [
       "{}"
      ]
     },
     "execution_count": 18,
     "metadata": {},
     "output_type": "execute_result"
    }
   ],
   "source": [
    "harvest_world.agents[0].q_knowledge[(1,0)]"
   ]
  },
  {
   "cell_type": "code",
   "execution_count": 19,
   "metadata": {},
   "outputs": [
    {
     "data": {
      "text/plain": [
       "(1, 3)"
      ]
     },
     "execution_count": 19,
     "metadata": {},
     "output_type": "execute_result"
    }
   ],
   "source": [
    "harvest_world.agents[0].current_state"
   ]
  },
  {
   "cell_type": "code",
   "execution_count": 20,
   "metadata": {},
   "outputs": [],
   "source": [
    "import numpy as np"
   ]
  },
  {
   "cell_type": "code",
   "execution_count": 21,
   "metadata": {},
   "outputs": [
    {
     "data": {
      "text/plain": [
       "array([[[0.01971398, 0.78622886, 0.461944  , 0.33238658],\n",
       "        [0.88569384, 0.41074427, 0.82439332, 0.34628488],\n",
       "        [0.63518839, 0.93502571, 0.19396245, 0.53055357],\n",
       "        [0.45005431, 0.55740123, 0.15784399, 0.58250666],\n",
       "        [0.84269429, 0.75482235, 0.68074531, 0.65072452],\n",
       "        [0.45293903, 0.1759909 , 0.74067551, 0.32897443],\n",
       "        [0.38026206, 0.64733013, 0.48808244, 0.77012329]],\n",
       "\n",
       "       [[0.66322051, 0.55813661, 0.22844383, 0.01712036],\n",
       "        [0.39828807, 0.12022861, 0.8776355 , 0.62919292],\n",
       "        [0.38500662, 0.21781892, 0.03977376, 0.98034649],\n",
       "        [0.99872493, 0.29620194, 0.08867212, 0.25468887],\n",
       "        [0.72035683, 0.13835271, 0.69597843, 0.96988991],\n",
       "        [0.56614769, 0.73224348, 0.52700228, 0.03578017],\n",
       "        [0.94389726, 0.08999894, 0.31087094, 0.06840179]]])"
      ]
     },
     "execution_count": 21,
     "metadata": {},
     "output_type": "execute_result"
    }
   ],
   "source": [
    "q_table = np.random.uniform(low=0, high=1, size= (2,7,4))\n",
    "q_table"
   ]
  },
  {
   "cell_type": "code",
   "execution_count": 22,
   "metadata": {},
   "outputs": [
    {
     "data": {
      "text/plain": [
       "(2, 7, 4)"
      ]
     },
     "execution_count": 22,
     "metadata": {},
     "output_type": "execute_result"
    }
   ],
   "source": [
    "q_table.shape"
   ]
  },
  {
   "cell_type": "code",
   "execution_count": 23,
   "metadata": {},
   "outputs": [
    {
     "data": {
      "text/plain": [
       "1"
      ]
     },
     "execution_count": 23,
     "metadata": {},
     "output_type": "execute_result"
    }
   ],
   "source": [
    "np.argmax(q_table[(0,0)])"
   ]
  },
  {
   "cell_type": "code",
   "execution_count": 24,
   "metadata": {},
   "outputs": [
    {
     "data": {
      "text/plain": [
       "array([0.01971398, 0.78622886, 0.461944  , 0.33238658])"
      ]
     },
     "execution_count": 24,
     "metadata": {},
     "output_type": "execute_result"
    }
   ],
   "source": [
    "q_table[(0,0)]"
   ]
  },
  {
   "cell_type": "code",
   "execution_count": 25,
   "metadata": {},
   "outputs": [
    {
     "data": {
      "text/plain": [
       "array([0.38500662, 0.21781892, 0.03977376, 0.98034649])"
      ]
     },
     "execution_count": 25,
     "metadata": {},
     "output_type": "execute_result"
    }
   ],
   "source": [
    "q_table[(1,2)]"
   ]
  },
  {
   "cell_type": "code",
   "execution_count": 26,
   "metadata": {},
   "outputs": [
    {
     "data": {
      "text/plain": [
       "0.7862288627775849"
      ]
     },
     "execution_count": 26,
     "metadata": {},
     "output_type": "execute_result"
    }
   ],
   "source": [
    "np.max(q_table[(0,0)])"
   ]
  },
  {
   "cell_type": "code",
   "execution_count": null,
   "metadata": {},
   "outputs": [],
   "source": []
  }
 ],
 "metadata": {
  "kernelspec": {
   "display_name": ".venv",
   "language": "python",
   "name": "python3"
  },
  "language_info": {
   "codemirror_mode": {
    "name": "ipython",
    "version": 3
   },
   "file_extension": ".py",
   "mimetype": "text/x-python",
   "name": "python",
   "nbconvert_exporter": "python",
   "pygments_lexer": "ipython3",
   "version": "3.12.3"
  }
 },
 "nbformat": 4,
 "nbformat_minor": 2
}
