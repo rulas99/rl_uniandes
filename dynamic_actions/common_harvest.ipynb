{
 "cells": [
  {
   "cell_type": "code",
   "execution_count": 1,
   "metadata": {},
   "outputs": [
    {
     "data": {
      "text/plain": [
       "<module 'components.HarvestWorld' from '/home/raul/Escritorio/extra/misis/rl/rl_uniandes/dynamic_actions/components/HarvestWorld.py'>"
      ]
     },
     "execution_count": 1,
     "metadata": {},
     "output_type": "execute_result"
    }
   ],
   "source": [
    "from components.HarvestWorld import HarvestWorld\n",
    "\n",
    "from importlib import import_module, reload\n",
    "\n",
    "import ipywidgets as widgets\n",
    "\n",
    "import matplotlib.pyplot as plt\n",
    "from IPython.display import clear_output\n",
    "\n",
    "harvest_world_module = import_module('components.HarvestWorld')\n",
    "reload(harvest_world_module)"
   ]
  },
  {
   "cell_type": "code",
   "execution_count": 2,
   "metadata": {},
   "outputs": [],
   "source": [
    "ASCII_MAP = \"\"\"\n",
    "A     A\n",
    "AA   AA\n",
    "A  Q  A\n",
    "\"\"\"\n",
    "\n",
    "harvest_world = HarvestWorld(ASCII_MAP, \n",
    "                            regrowth_probs=[0.0, 0.005],\n",
    "                            num_agents=1)\n",
    "    "
   ]
  },
  {
   "cell_type": "code",
   "execution_count": 3,
   "metadata": {},
   "outputs": [
    {
     "data": {
      "application/vnd.jupyter.widget-view+json": {
       "model_id": "eea826983a3344cf9ad1f32f3f3287d7",
       "version_major": 2,
       "version_minor": 0
      },
      "text/plain": [
       "FloatSlider(value=0.0, description='Frequency:', max=10.0, step=1.0)"
      ]
     },
     "metadata": {},
     "output_type": "display_data"
    },
    {
     "data": {
      "application/vnd.jupyter.widget-view+json": {
       "model_id": "4aa3eb41a6d84666972d50682a9d7d8c",
       "version_major": 2,
       "version_minor": 0
      },
      "text/plain": [
       "Output()"
      ]
     },
     "metadata": {},
     "output_type": "display_data"
    }
   ],
   "source": [
    "def update_plot(freq):\n",
    "    clear_output(wait=True)\n",
    "    fig, axes = plt.subplots(1, 2, figsize=(20, 15))\n",
    "    harvest_world.plot_map(axes[0])\n",
    "    harvest_world.agents[0].plot_knowledge(axes[1])\n",
    "    harvest_world.advance_timestep()\n",
    "    plt.show() \n",
    "    \n",
    "freq_slider = widgets.FloatSlider(value=0, min=0, max=10, step=1, description='Frequency:')\n",
    "out = widgets.interactive_output(update_plot, {'freq': freq_slider})\n",
    "display(freq_slider, out)"
   ]
  },
  {
   "cell_type": "code",
   "execution_count": 4,
   "metadata": {},
   "outputs": [
    {
     "data": {
      "text/plain": [
       "{}"
      ]
     },
     "execution_count": 4,
     "metadata": {},
     "output_type": "execute_result"
    }
   ],
   "source": [
    "harvest_world.agents[0].q_knowledge[(1,1)]"
   ]
  },
  {
   "cell_type": "code",
   "execution_count": 5,
   "metadata": {},
   "outputs": [
    {
     "data": {
      "text/plain": [
       "{}"
      ]
     },
     "execution_count": 5,
     "metadata": {},
     "output_type": "execute_result"
    }
   ],
   "source": [
    "harvest_world.agents[0].q_knowledge[(1,0)]"
   ]
  },
  {
   "cell_type": "code",
   "execution_count": 6,
   "metadata": {},
   "outputs": [
    {
     "data": {
      "text/plain": [
       "(2, 4)"
      ]
     },
     "execution_count": 6,
     "metadata": {},
     "output_type": "execute_result"
    }
   ],
   "source": [
    "harvest_world.agents[0].current_state"
   ]
  },
  {
   "cell_type": "code",
   "execution_count": 7,
   "metadata": {},
   "outputs": [],
   "source": [
    "import numpy as np"
   ]
  },
  {
   "cell_type": "code",
   "execution_count": 8,
   "metadata": {},
   "outputs": [
    {
     "data": {
      "text/plain": [
       "array([[[0.72592344, 0.14557076, 0.5961265 , 0.47771621],\n",
       "        [0.55860462, 0.88805247, 0.57302768, 0.47344708],\n",
       "        [0.85934897, 0.74580315, 0.03963492, 0.15347574],\n",
       "        [0.4855246 , 0.06988748, 0.01717942, 0.41553516],\n",
       "        [0.01203677, 0.20517753, 0.30600817, 0.81399538],\n",
       "        [0.3841488 , 0.50492942, 0.63375073, 0.4886411 ],\n",
       "        [0.0214846 , 0.92005486, 0.32362265, 0.59537093]],\n",
       "\n",
       "       [[0.8176766 , 0.10539605, 0.22780485, 0.45755548],\n",
       "        [0.08871188, 0.33832338, 0.43059524, 0.32728327],\n",
       "        [0.40430223, 0.85156506, 0.67953554, 0.82261838],\n",
       "        [0.47252512, 0.18244309, 0.3281988 , 0.18852174],\n",
       "        [0.90666567, 0.69476047, 0.45938165, 0.17333131],\n",
       "        [0.61218789, 0.17815319, 0.58754852, 0.6575252 ],\n",
       "        [0.8621788 , 0.7443834 , 0.30549908, 0.74695082]]])"
      ]
     },
     "execution_count": 8,
     "metadata": {},
     "output_type": "execute_result"
    }
   ],
   "source": [
    "q_table = np.random.uniform(low=0, high=1, size= (2,7,4))\n",
    "q_table"
   ]
  },
  {
   "cell_type": "code",
   "execution_count": 9,
   "metadata": {},
   "outputs": [
    {
     "data": {
      "text/plain": [
       "(2, 7, 4)"
      ]
     },
     "execution_count": 9,
     "metadata": {},
     "output_type": "execute_result"
    }
   ],
   "source": [
    "q_table.shape"
   ]
  },
  {
   "cell_type": "code",
   "execution_count": 10,
   "metadata": {},
   "outputs": [
    {
     "data": {
      "text/plain": [
       "0"
      ]
     },
     "execution_count": 10,
     "metadata": {},
     "output_type": "execute_result"
    }
   ],
   "source": [
    "np.argmax(q_table[(0,0)])"
   ]
  },
  {
   "cell_type": "code",
   "execution_count": 11,
   "metadata": {},
   "outputs": [
    {
     "data": {
      "text/plain": [
       "array([0.72592344, 0.14557076, 0.5961265 , 0.47771621])"
      ]
     },
     "execution_count": 11,
     "metadata": {},
     "output_type": "execute_result"
    }
   ],
   "source": [
    "q_table[(0,0)]"
   ]
  },
  {
   "cell_type": "code",
   "execution_count": 12,
   "metadata": {},
   "outputs": [
    {
     "data": {
      "text/plain": [
       "array([0.40430223, 0.85156506, 0.67953554, 0.82261838])"
      ]
     },
     "execution_count": 12,
     "metadata": {},
     "output_type": "execute_result"
    }
   ],
   "source": [
    "q_table[(1,2)]"
   ]
  },
  {
   "cell_type": "code",
   "execution_count": 13,
   "metadata": {},
   "outputs": [
    {
     "data": {
      "text/plain": [
       "0.7259234367957242"
      ]
     },
     "execution_count": 13,
     "metadata": {},
     "output_type": "execute_result"
    }
   ],
   "source": [
    "np.max(q_table[(0,0)])"
   ]
  },
  {
   "cell_type": "code",
   "execution_count": null,
   "metadata": {},
   "outputs": [],
   "source": []
  }
 ],
 "metadata": {
  "kernelspec": {
   "display_name": ".venv",
   "language": "python",
   "name": "python3"
  },
  "language_info": {
   "codemirror_mode": {
    "name": "ipython",
    "version": 3
   },
   "file_extension": ".py",
   "mimetype": "text/x-python",
   "name": "python",
   "nbconvert_exporter": "python",
   "pygments_lexer": "ipython3",
   "version": "3.12.3"
  }
 },
 "nbformat": 4,
 "nbformat_minor": 2
}
