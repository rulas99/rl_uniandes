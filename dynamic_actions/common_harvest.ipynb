{
 "cells": [
  {
   "cell_type": "code",
   "execution_count": 1,
   "metadata": {},
   "outputs": [
    {
     "data": {
      "text/plain": [
       "<module 'components.HarvestWorld' from '/home/raul/Escritorio/extra/misis/rl/rl_uniandes/dynamic_actions/components/HarvestWorld.py'>"
      ]
     },
     "execution_count": 1,
     "metadata": {},
     "output_type": "execute_result"
    }
   ],
   "source": [
    "from components.HarvestWorld import HarvestWorld\n",
    "\n",
    "from importlib import import_module, reload\n",
    "\n",
    "import ipywidgets as widgets\n",
    "\n",
    "import matplotlib.pyplot as plt\n",
    "from IPython.display import clear_output\n",
    "\n",
    "harvest_world_module = import_module('components.HarvestWorld')\n",
    "reload(harvest_world_module)"
   ]
  },
  {
   "cell_type": "code",
   "execution_count": 2,
   "metadata": {},
   "outputs": [],
   "source": [
    "ASCII_MAP = \"\"\"\n",
    "A  W  A\n",
    "AA WW  \n",
    "A   W Q\n",
    "\"\"\"\n",
    "\n",
    "harvest_world = HarvestWorld(ASCII_MAP, \n",
    "                            regrowth_probs=[0.0, 0.005],\n",
    "                            num_agents=1)\n",
    "    "
   ]
  },
  {
   "cell_type": "code",
   "execution_count": 3,
   "metadata": {},
   "outputs": [
    {
     "data": {
      "application/vnd.jupyter.widget-view+json": {
       "model_id": "039d0d1b4d624df0bd43d0da498ad59e",
       "version_major": 2,
       "version_minor": 0
      },
      "text/plain": [
       "FloatSlider(value=0.0, description='Frequency:', max=10.0, step=1.0)"
      ]
     },
     "metadata": {},
     "output_type": "display_data"
    },
    {
     "data": {
      "application/vnd.jupyter.widget-view+json": {
       "model_id": "53f4b8c3e2a44436a8449981e16dd057",
       "version_major": 2,
       "version_minor": 0
      },
      "text/plain": [
       "Output()"
      ]
     },
     "metadata": {},
     "output_type": "display_data"
    }
   ],
   "source": [
    "def update_plot(freq):\n",
    "    clear_output(wait=True)\n",
    "    fig, axes = plt.subplots(1, 2, figsize=(20, 15))\n",
    "    harvest_world.plot_map(axes[0])\n",
    "    harvest_world.agents[0].plot_knowledge(axes[1])\n",
    "    harvest_world.advance_timestep()\n",
    "    plt.show() \n",
    "    \n",
    "freq_slider = widgets.FloatSlider(value=0, min=0, max=10, step=1, description='Frequency:')\n",
    "out = widgets.interactive_output(update_plot, {'freq': freq_slider})\n",
    "display(freq_slider, out)"
   ]
  },
  {
   "cell_type": "code",
   "execution_count": 4,
   "metadata": {},
   "outputs": [
    {
     "data": {
      "text/plain": [
       "{}"
      ]
     },
     "execution_count": 4,
     "metadata": {},
     "output_type": "execute_result"
    }
   ],
   "source": [
    "harvest_world.agents[0].q_knowledge[(1,1)]"
   ]
  },
  {
   "cell_type": "code",
   "execution_count": 5,
   "metadata": {},
   "outputs": [
    {
     "data": {
      "text/plain": [
       "{}"
      ]
     },
     "execution_count": 5,
     "metadata": {},
     "output_type": "execute_result"
    }
   ],
   "source": [
    "harvest_world.agents[0].q_knowledge[(1,0)]"
   ]
  },
  {
   "cell_type": "code",
   "execution_count": 6,
   "metadata": {},
   "outputs": [
    {
     "data": {
      "text/plain": [
       "(2, 6)"
      ]
     },
     "execution_count": 6,
     "metadata": {},
     "output_type": "execute_result"
    }
   ],
   "source": [
    "harvest_world.agents[0].current_state"
   ]
  },
  {
   "cell_type": "code",
   "execution_count": 7,
   "metadata": {},
   "outputs": [],
   "source": [
    "import numpy as np"
   ]
  },
  {
   "cell_type": "code",
   "execution_count": 8,
   "metadata": {},
   "outputs": [
    {
     "data": {
      "text/plain": [
       "array([[[0.12011013, 0.11967254, 0.02926843, 0.52267857],\n",
       "        [0.95721941, 0.39786279, 0.13907273, 0.59370368],\n",
       "        [0.39430193, 0.97243407, 0.00813345, 0.24049176],\n",
       "        [0.37673942, 0.25286051, 0.96813366, 0.34769002],\n",
       "        [0.95710314, 0.74457131, 0.21726346, 0.291498  ],\n",
       "        [0.69523621, 0.29446093, 0.20962909, 0.04473997],\n",
       "        [0.98129213, 0.89759953, 0.20097734, 0.42609198]],\n",
       "\n",
       "       [[0.45892319, 0.74676757, 0.47949569, 0.04253374],\n",
       "        [0.30462715, 0.75431862, 0.56527031, 0.02425262],\n",
       "        [0.98441154, 0.68849293, 0.59726592, 0.58810603],\n",
       "        [0.27883852, 0.91472854, 0.87827877, 0.12831872],\n",
       "        [0.9068797 , 0.95014128, 0.6170354 , 0.03502651],\n",
       "        [0.06954405, 0.24397045, 0.09281627, 0.69291925],\n",
       "        [0.91359709, 0.89803442, 0.38287895, 0.21268833]]])"
      ]
     },
     "execution_count": 8,
     "metadata": {},
     "output_type": "execute_result"
    }
   ],
   "source": [
    "q_table = np.random.uniform(low=0, high=1, size= (2,7,4))\n",
    "q_table"
   ]
  },
  {
   "cell_type": "code",
   "execution_count": 9,
   "metadata": {},
   "outputs": [
    {
     "data": {
      "text/plain": [
       "(2, 7, 4)"
      ]
     },
     "execution_count": 9,
     "metadata": {},
     "output_type": "execute_result"
    }
   ],
   "source": [
    "q_table.shape"
   ]
  },
  {
   "cell_type": "code",
   "execution_count": 10,
   "metadata": {},
   "outputs": [
    {
     "data": {
      "text/plain": [
       "3"
      ]
     },
     "execution_count": 10,
     "metadata": {},
     "output_type": "execute_result"
    }
   ],
   "source": [
    "np.argmax(q_table[(0,0)])"
   ]
  },
  {
   "cell_type": "code",
   "execution_count": 11,
   "metadata": {},
   "outputs": [
    {
     "data": {
      "text/plain": [
       "array([0.12011013, 0.11967254, 0.02926843, 0.52267857])"
      ]
     },
     "execution_count": 11,
     "metadata": {},
     "output_type": "execute_result"
    }
   ],
   "source": [
    "q_table[(0,0)]"
   ]
  },
  {
   "cell_type": "code",
   "execution_count": 12,
   "metadata": {},
   "outputs": [
    {
     "data": {
      "text/plain": [
       "array([0.98441154, 0.68849293, 0.59726592, 0.58810603])"
      ]
     },
     "execution_count": 12,
     "metadata": {},
     "output_type": "execute_result"
    }
   ],
   "source": [
    "q_table[(1,2)]"
   ]
  },
  {
   "cell_type": "code",
   "execution_count": 13,
   "metadata": {},
   "outputs": [
    {
     "data": {
      "text/plain": [
       "0.5226785650944072"
      ]
     },
     "execution_count": 13,
     "metadata": {},
     "output_type": "execute_result"
    }
   ],
   "source": [
    "np.max(q_table[(0,0)])"
   ]
  },
  {
   "cell_type": "code",
   "execution_count": null,
   "metadata": {},
   "outputs": [],
   "source": []
  }
 ],
 "metadata": {
  "kernelspec": {
   "display_name": ".venv",
   "language": "python",
   "name": "python3"
  },
  "language_info": {
   "codemirror_mode": {
    "name": "ipython",
    "version": 3
   },
   "file_extension": ".py",
   "mimetype": "text/x-python",
   "name": "python",
   "nbconvert_exporter": "python",
   "pygments_lexer": "ipython3",
   "version": "3.12.3"
  }
 },
 "nbformat": 4,
 "nbformat_minor": 2
}
