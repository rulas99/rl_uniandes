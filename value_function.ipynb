{
 "cells": [
  {
   "cell_type": "code",
   "execution_count": 6,
   "metadata": {},
   "outputs": [],
   "source": [
    "import numpy as np\n",
    "import random\n",
    "import matplotlib.pyplot as plt\n",
    "\n",
    "import turtle as t"
   ]
  },
  {
   "cell_type": "markdown",
   "metadata": {},
   "source": [
    "## Value iteration:\n",
    "\n",
    "$\n",
    "\\begin{equation}\n",
    "¿? : V(S_t)\\longleftarrow V(S_t) + \\alpha[V(S_{t+1})-V(S_t)]\n",
    "\\end{equation}\n",
    "\n",
    "\\begin{equation}\n",
    "TD : V(S_t)\\longleftarrow V(S_t) + \\alpha[R_{t+1}+\\gamma V(S_{t+1})-V(S_t)]\n",
    "\\end{equation}\n",
    "\n",
    "\\begin{equation}\n",
    "Bellman : V(S_t)\\longleftarrow E[R_{t+1}+\\gamma V(S_{t+1})]\n",
    "\\end{equation}\n",
    "$\n"
   ]
  },
  {
   "cell_type": "code",
   "execution_count": 7,
   "metadata": {},
   "outputs": [],
   "source": [
    "N_ROWS = 4\n",
    "N_COLS = 5\n",
    "GRID_WORLD = np.zeros((N_ROWS, N_COLS))\n",
    "\n",
    "WIN_STATE = (1,4)\n",
    "GRID_WORLD[WIN_STATE] = 1\n",
    "\n",
    "LOSE_STATE = (2,3)\n",
    "GRID_WORLD[LOSE_STATE] = -1\n",
    "\n",
    "INVALID_STATE = (1,1)\n",
    "GRID_WORLD[INVALID_STATE] = np.nan\n",
    "INVALID_STATE = (2,1)\n",
    "GRID_WORLD[INVALID_STATE] = np.nan\n",
    "INVALID_STATE = (0,3)\n",
    "GRID_WORLD[INVALID_STATE] = np.nan\n",
    "\n",
    "ACTIONS = ('Up', 'Down', 'Left', 'Right')\n",
    "\n",
    "GAMMA = .9\n",
    "ALPHA = 0.1\n",
    "\n",
    "class Agent():\n",
    "    \n",
    "    def __init__(self, initial_state, world_knowledge):\n",
    "        self.initial_state = initial_state\n",
    "        self.current_state = initial_state\n",
    "        self.world_knowledge = world_knowledge.copy()\n",
    "        self.next_action = None\n",
    "        \n",
    "        \n",
    "    def __str__(self) -> str:\n",
    "        return f'turti at {self.current_state} with action {self.next_action}'\n",
    "    \n",
    "    def choose_action(self):\n",
    "        next_action = random.choice(ACTIONS)\n",
    "        self.next_action = next_action\n",
    "        return next_action\n",
    "    \n",
    "\n",
    "    \n",
    "    def set_new_value_bellman(self, new_state, next_reward=-1):\n",
    "        \n",
    "        next_value = self.world_knowledge[new_state]\n",
    "        \n",
    "        #current_value = self.world_knowledge[self.current_state]\n",
    "        #updated_value = current_value + ALPHA*( next_value - current_value )\n",
    "        updated_value = next_reward + GAMMA*next_value\n",
    "        \n",
    "        self.world_knowledge[self.current_state] = updated_value\n",
    "        \n",
    "        return updated_value\n",
    "    \n",
    "    \n",
    "    def set_new_value_td(self, new_state, next_reward=-1):\n",
    "        \n",
    "        current_value = self.world_knowledge[self.current_state]\n",
    "        next_value = self.world_knowledge[new_state]\n",
    "                \n",
    "        updated_value = current_value + ALPHA * (next_reward + GAMMA * next_value - current_value)\n",
    "        \n",
    "        self.world_knowledge[self.current_state] = updated_value\n",
    "        \n",
    "        return updated_value\n",
    "    \n",
    "    \n",
    "    def restart(self):\n",
    "        self.current_state = self.initial_state\n",
    "        self.next_action = None\n",
    "    \n",
    "        \n",
    "    def move(self, next_action):\n",
    "                \n",
    "        if not next_action:\n",
    "            new_state = self.current_state\n",
    "        elif next_action == 'Up':\n",
    "            new_state = (max(self.current_state[0]-1, 0), self.current_state[1])\n",
    "        elif next_action == 'Down':\n",
    "            new_state = (min(self.current_state[0]+1, N_ROWS-1), self.current_state[1])\n",
    "        elif next_action == 'Left':\n",
    "            new_state = (self.current_state[0], max(self.current_state[1]-1, 0))\n",
    "        elif next_action == 'Right':\n",
    "            new_state = (self.current_state[0], min(self.current_state[1]+1, N_COLS-1))\n",
    "            \n",
    "        if np.isnan(self.world_knowledge[new_state]):\n",
    "            return self.current_state\n",
    "            \n",
    "        self.set_new_value_td(new_state)\n",
    "        \n",
    "        if (new_state == WIN_STATE) or (new_state == LOSE_STATE):\n",
    "            self.restart()\n",
    "            return self.initial_state\n",
    "            \n",
    "        self.current_state = new_state\n",
    "        \n",
    "        return new_state"
   ]
  },
  {
   "cell_type": "code",
   "execution_count": 10,
   "metadata": {},
   "outputs": [],
   "source": [
    "turti = Agent(initial_state=(2,0), world_knowledge=GRID_WORLD)"
   ]
  },
  {
   "cell_type": "code",
   "execution_count": 35,
   "metadata": {},
   "outputs": [],
   "source": [
    "for _ in range(200):\n",
    "    next_action = turti.choose_action()\n",
    "    turti.move(next_action)"
   ]
  },
  {
   "cell_type": "code",
   "execution_count": 37,
   "metadata": {},
   "outputs": [
    {
     "name": "stdout",
     "output_type": "stream",
     "text": [
      "[[-3.34746471 -1.691118   -0.88409393         nan  0.        ]\n",
      " [-3.2833294          nan -0.367309   -0.01        1.        ]\n",
      " [-3.18369069         nan -0.4589209  -1.         -0.01      ]\n",
      " [-3.11515609 -2.01735074 -0.76264943 -0.78128316 -0.42643732]]\n"
     ]
    }
   ],
   "source": [
    "print(turti.world_knowledge)"
   ]
  },
  {
   "cell_type": "code",
   "execution_count": 36,
   "metadata": {},
   "outputs": [
    {
     "data": {
      "text/plain": [
       "<matplotlib.collections.PathCollection at 0x7f64543dd7b0>"
      ]
     },
     "execution_count": 36,
     "metadata": {},
     "output_type": "execute_result"
    },
    {
     "data": {
      "image/png": "[encoded data removed]",
      "text/plain": [
       "<Figure size 640x480 with 1 Axes>"
      ]
     },
     "metadata": {},
     "output_type": "display_data"
    }
   ],
   "source": [
    "plt.imshow(turti.world_knowledge, cmap='cividis', norm='linear')\n",
    "plt.scatter(turti.initial_state[1], turti.initial_state[0], color='b')\n",
    "plt.scatter(WIN_STATE[1], WIN_STATE[0], color='g')\n",
    "plt.scatter(LOSE_STATE[1], LOSE_STATE[0], color='r')"
   ]
  },
  {
   "cell_type": "code",
   "execution_count": 279,
   "metadata": {},
   "outputs": [
    {
     "name": "stdout",
     "output_type": "stream",
     "text": [
      "[[ 0.  0.  0. nan  0.]\n",
      " [ 0. nan  0.  0.  1.]\n",
      " [ 0. nan  0. -1.  0.]\n",
      " [ 0.  0.  0.  0.  0.]]\n"
     ]
    }
   ],
   "source": [
    "print(GRID_WORLD)"
   ]
  },
  {
   "cell_type": "code",
   "execution_count": null,
   "metadata": {},
   "outputs": [],
   "source": [
    "# Asumiendo que la clase Agent y sus métodos están definidos correctamente...\n",
    "\n",
    "# Función para convertir coordenadas de la cuadrícula a coordenadas de Turtle\n",
    "def grid_to_turtle(row, col):\n",
    "    x = col * 200 - N_COLS / 2 * 200 + 200 / 2\n",
    "    y = N_ROWS / 2 * 200 - row * 200 - 200 / 2\n",
    "    return (x, y)\n",
    "\n",
    "t.showturtle()  # Asegurarnos de que la tortuga sea visible\n",
    "t.speed('fastest')  # Configura una velocidad adecuada para ver los movimientos\n",
    "\n",
    "# Moviendo la tortuga basado en acciones del agente\n",
    "for _ in range(500):\n",
    "    next_action = turti.choose_action()\n",
    "    turti.move(next_action)\n",
    "    turtle_pos = grid_to_turtle(turti.current_state[0], turti.current_state[1])\n",
    "    t.penup()\n",
    "    t.goto(turtle_pos)\n",
    "    t.pendown()\n",
    "    # Aquí puedes añadir lógica adicional, por ejemplo, cambiar de color o marcar la celda visitada\n",
    "    # Dibujo del recorrido del agente\n",
    "\n",
    "\n",
    "# t.done()  # Ya no necesitas esta línea si quieres que el ciclo continúe ejecutándose"
   ]
  }
 ],
 "metadata": {
  "kernelspec": {
   "display_name": "Python 3",
   "language": "python",
   "name": "python3"
  },
  "language_info": {
   "codemirror_mode": {
    "name": "ipython",
    "version": 3
   },
   "file_extension": ".py",
   "mimetype": "text/x-python",
   "name": "python",
   "nbconvert_exporter": "python",
   "pygments_lexer": "ipython3",
   "version": "3.10.12"
  }
 },
 "nbformat": 4,
 "nbformat_minor": 2
}
